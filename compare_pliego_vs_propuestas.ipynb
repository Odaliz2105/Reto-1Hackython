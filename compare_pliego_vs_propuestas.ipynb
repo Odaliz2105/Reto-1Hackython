{
 "cells": [
  {
   "cell_type": "code",
   "execution_count": 1,
   "id": "71a69ba6",
   "metadata": {},
   "outputs": [
    {
     "name": "stdout",
     "output_type": "stream",
     "text": [
      "Resumen comparativo guardado en processed/summary_comparison.json\n"
     ]
    }
   ],
   "source": [
    "# scripts/compare_pliego_vs_propuestas.py\n",
    "import json, glob, os\n",
    "from difflib import SequenceMatcher\n",
    "\n",
    "def sim(a,b):\n",
    "    return SequenceMatcher(None, a or \"\", b or \"\").ratio()\n",
    "\n",
    "def score_proposal(pliego, prop):\n",
    "    score = 0\n",
    "    reasons = []\n",
    "    # existencia de secciones\n",
    "    if prop.get(\"requisitos_tecnicos\"): score += 35\n",
    "    else: reasons.append(\"Falta requisitos técnicos\")\n",
    "    ce = prop.get(\"condiciones_economicas\",\"\")\n",
    "    if ce:\n",
    "        # si incluye monto / número -> mejor puntaje\n",
    "        if any(ch.isdigit() for ch in ce): score += 30\n",
    "        else: score += 10; reasons.append(\"Condiciones económicas no numéricas\")\n",
    "    else:\n",
    "        reasons.append(\"Falta condiciones económicas\")\n",
    "    if prop.get(\"clausulas_legales\"): score += 35\n",
    "    else: reasons.append(\"Falta cláusulas legales\")\n",
    "    # comparación textual con el pliego: similitud en requisitos_tecnicos\n",
    "    sim_tecn = sim(pliego.get(\"requisitos_tecnicos\",\"\"), prop.get(\"requisitos_tecnicos\",\"\"))\n",
    "    score += int(sim_tecn * 20)  # penaliza/beneficia por similitud\n",
    "    score = min(score, 100)\n",
    "    return score, reasons, {\"sim_tecn\": sim_tecn}\n",
    "\n",
    "def semaforo(score):\n",
    "    return \"VERDE\" if score>=75 else (\"AMARILLO\" if score>=50 else \"ROJO\")\n",
    "\n",
    "def main(pliego_path=\"processed/extracted_info.json\", proposals_dir=\"processed/propuestas_estructuradas\", out=\"processed/summary_comparison.json\"):\n",
    "    with open(pliego_path, \"r\", encoding=\"utf-8\") as f:\n",
    "        pliego = json.load(f)\n",
    "    results = {}\n",
    "    for p in glob.glob(os.path.join(proposals_dir,\"*.json\")):\n",
    "        with open(p,\"r\",encoding=\"utf-8\") as f:\n",
    "            prop = json.load(f)\n",
    "        score, reasons, meta = score_proposal(pliego, prop)\n",
    "        results[os.path.basename(p)] = {\n",
    "            \"score\": score,\n",
    "            \"semaforo\": semaforo(score),\n",
    "            \"reasons\": reasons,\n",
    "            \"meta\": meta\n",
    "        }\n",
    "    os.makedirs(os.path.dirname(out), exist_ok=True)\n",
    "    with open(out,\"w\",encoding=\"utf-8\") as f:\n",
    "        json.dump(results,f,indent=2,ensure_ascii=False)\n",
    "    print(\"Resumen comparativo guardado en\", out)\n",
    "\n",
    "if __name__ == \"__main__\":\n",
    "    main()\n"
   ]
  },
  {
   "cell_type": "code",
   "execution_count": null,
   "id": "3f43497d",
   "metadata": {},
   "outputs": [],
   "source": []
  }
 ],
 "metadata": {
  "kernelspec": {
   "display_name": "Python 3",
   "language": "python",
   "name": "python3"
  },
  "language_info": {
   "codemirror_mode": {
    "name": "ipython",
    "version": 3
   },
   "file_extension": ".py",
   "mimetype": "text/x-python",
   "name": "python",
   "nbconvert_exporter": "python",
   "pygments_lexer": "ipython3",
   "version": "3.12.7"
  }
 },
 "nbformat": 4,
 "nbformat_minor": 5
}
