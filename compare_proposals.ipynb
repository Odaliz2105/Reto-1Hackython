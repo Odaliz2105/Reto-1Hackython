{
 "cells": [
  {
   "cell_type": "code",
   "execution_count": 1,
   "id": "68ac5dd9",
   "metadata": {},
   "outputs": [
    {
     "name": "stdout",
     "output_type": "stream",
     "text": [
      "Resumen comparativo guardado en processed/summary_comparison.json\n"
     ]
    }
   ],
   "source": [
    "# scripts/compare_proposals.py\n",
    "import json\n",
    "import glob\n",
    "import os\n",
    "\n",
    "def score_proposal(extracted):\n",
    "    score = 0\n",
    "    reasons = []\n",
    "    # ejemplo: cada sección presente suma puntos\n",
    "    if extracted.get(\"requisitos_tecnicos\"):\n",
    "        score += 40\n",
    "    else:\n",
    "        reasons.append(\"Falta requisitos técnicos\")\n",
    "\n",
    "    if extracted.get(\"condiciones_economicas\"):\n",
    "        # si incluye monto, suma más\n",
    "        ce = extracted.get(\"condiciones_economicas\", \"\")\n",
    "        if \"USD\" in ce or any(ch.isdigit() for ch in ce):\n",
    "            score += 30\n",
    "        else:\n",
    "            reasons.append(\"Condiciones económicas no detalladas\")\n",
    "    if extracted.get(\"clausulas_legales\"):\n",
    "        score += 30\n",
    "    else:\n",
    "        reasons.append(\"Falta cláusulas legales\")\n",
    "    # normalizar a 0-100\n",
    "    score = min(score, 100)\n",
    "    return score, reasons\n",
    "\n",
    "def semaforo(score):\n",
    "    if score >= 75:\n",
    "        return \"VERDE\"\n",
    "    if score >= 50:\n",
    "        return \"AMARILLO\"\n",
    "    return \"ROJO\"\n",
    "\n",
    "# cargar todas las propuestas JSON (ejemplo)\n",
    "proposals = {}\n",
    "for path in glob.glob(\"processed/propuestas_estructuradas/*.json\"):\n",
    "    with open(path, \"r\", encoding=\"utf-8\") as f:\n",
    "        proposals[path] = json.load(f)\n",
    "\n",
    "results = {}\n",
    "for path, data in proposals.items():\n",
    "    sc, reasons = score_proposal(data)\n",
    "    results[os.path.basename(path)] = {\"score\": sc, \"semaforo\": semaforo(sc), \"reasons\": reasons}\n",
    "\n",
    "# guardar resumen\n",
    "os.makedirs(\"processed\", exist_ok=True)\n",
    "with open(\"processed/summary_comparison.json\", \"w\", encoding=\"utf-8\") as f:\n",
    "    json.dump(results, f, indent=2, ensure_ascii=False)\n",
    "\n",
    "print(\"Resumen comparativo guardado en processed/summary_comparison.json\")"
   ]
  },
  {
   "cell_type": "code",
   "execution_count": null,
   "id": "ae4a6042",
   "metadata": {},
   "outputs": [],
   "source": []
  }
 ],
 "metadata": {
  "kernelspec": {
   "display_name": "Python 3",
   "language": "python",
   "name": "python3"
  },
  "language_info": {
   "codemirror_mode": {
    "name": "ipython",
    "version": 3
   },
   "file_extension": ".py",
   "mimetype": "text/x-python",
   "name": "python",
   "nbconvert_exporter": "python",
   "pygments_lexer": "ipython3",
   "version": "3.12.7"
  }
 },
 "nbformat": 4,
 "nbformat_minor": 5
}
