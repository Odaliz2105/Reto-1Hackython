{
 "cells": [
  {
   "cell_type": "markdown",
   "id": "736dedbf",
   "metadata": {},
   "source": [
    "Limpiar y chunking"
   ]
  },
  {
   "cell_type": "code",
   "execution_count": 1,
   "id": "1263980d",
   "metadata": {},
   "outputs": [
    {
     "name": "stdout",
     "output_type": "stream",
     "text": [
      "📄 condiciones_particulares_del_contrato.txt → 23 fragmentos\n",
      "📄 condiciones_particulares_del_pliego.txt → 55 fragmentos\n",
      "📄 formulario_unico_de_la_oferta.txt → 51 fragmentos\n"
     ]
    }
   ],
   "source": [
    "import os\n",
    "from langchain.text_splitter import RecursiveCharacterTextSplitter\n",
    "\n",
    "INPUT_DIR = \"processed\"\n",
    "OUTPUT_DIR = \"processed/chunks\"\n",
    "\n",
    "os.makedirs(OUTPUT_DIR, exist_ok=True)\n",
    "\n",
    "splitter = RecursiveCharacterTextSplitter(\n",
    "    chunk_size=1000,\n",
    "    chunk_overlap=200\n",
    ")\n",
    "\n",
    "for file in os.listdir(INPUT_DIR):\n",
    "    if file.endswith(\".txt\"):\n",
    "        with open(os.path.join(INPUT_DIR, file), \"r\", encoding=\"utf-8\") as f:\n",
    "            text = f.read()\n",
    "\n",
    "        chunks = splitter.split_text(text)\n",
    "\n",
    "        chunk_file = os.path.splitext(file)[0] + \"_chunks.txt\"\n",
    "        with open(os.path.join(OUTPUT_DIR, chunk_file), \"w\", encoding=\"utf-8\") as out:\n",
    "            for chunk in chunks:\n",
    "                out.write(chunk + \"\\n---\\n\")\n",
    "\n",
    "        print(f\"📄 {file} → {len(chunks)} fragmentos\")"
   ]
  },
  {
   "cell_type": "code",
   "execution_count": null,
   "id": "01318a29",
   "metadata": {},
   "outputs": [],
   "source": []
  }
 ],
 "metadata": {
  "kernelspec": {
   "display_name": "Python 3",
   "language": "python",
   "name": "python3"
  },
  "language_info": {
   "codemirror_mode": {
    "name": "ipython",
    "version": 3
   },
   "file_extension": ".py",
   "mimetype": "text/x-python",
   "name": "python",
   "nbconvert_exporter": "python",
   "pygments_lexer": "ipython3",
   "version": "3.12.7"
  }
 },
 "nbformat": 4,
 "nbformat_minor": 5
}
